# %% [markdown]
# # OpenCoder Colab 适配版
# [![Open In Colab](https://colab.research.google.com/assets/colab-badge.svg)](https://colab.research.google.com/github/你的用户名/opencoder-demo/blob/main/opencoder_colab.ipynb)

# %% [code]
# 安装依赖
!pip install -r https://raw.githubusercontent.com/你的用户名/opencoder-demo/main/requirements.txt

# %% [code]
# 下载代码
!wget https://raw.githubusercontent.com/你的用户名/opencoder-demo/main/train.py

# %% [code]
# 挂载Google Drive（保存模型）
from google.colab import drive
drive.mount('/content/drive')

# %% [code]
# 运行训练
!python train.py
